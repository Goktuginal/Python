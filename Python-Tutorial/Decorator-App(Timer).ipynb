{
 "cells": [
  {
   "cell_type": "code",
   "execution_count": 2,
   "id": "56670283",
   "metadata": {},
   "outputs": [],
   "source": [
    "def timed(fn):\n",
    "    from time import perf_counter\n",
    "    from functools import wraps\n",
    "    \n",
    "    @wraps(fn)\n",
    "    def inner(*args, **kwargs):\n",
    "        start = perf_counter()\n",
    "        result = fn(*args, **kwargs)\n",
    "        end = perf_counter()\n",
    "        elapsed = end - start\n",
    "        \n",
    "        args_ = [str(a) for a in args]\n",
    "        kwargs_ = ['{0}={1}'.format(k, v) for (k, v) in kwargs.items()]\n",
    "        all_args = args_ + kwargs_\n",
    "        args_str = ','.join(all_args)\n",
    "        \n",
    "        print('{0}({1}) took {2:.6f}s to run'.format(fn.__name__, args_str, elapsed))\n",
    "        \n",
    "        return result\n",
    "    \n",
    "    return inner"
   ]
  },
  {
   "cell_type": "code",
   "execution_count": 7,
   "id": "1ee1eba2",
   "metadata": {},
   "outputs": [],
   "source": [
    "#Recursion - not efficient because of extra calculations\n",
    "\n",
    "@timed\n",
    "def calc_recursive_fib(n):\n",
    "    if n <= 2:\n",
    "        return 1\n",
    "    else:\n",
    "        return calc_recursive_fib(n-1) + calc_recursive_fib(n-2)"
   ]
  },
  {
   "cell_type": "code",
   "execution_count": 8,
   "id": "390af3d2",
   "metadata": {},
   "outputs": [
    {
     "name": "stdout",
     "output_type": "stream",
     "text": [
      "calc_recursive_fib(2) took 0.000000s to run\n",
      "calc_recursive_fib(1) took 0.000001s to run\n",
      "calc_recursive_fib(3) took 0.001471s to run\n",
      "calc_recursive_fib(2) took 0.000001s to run\n",
      "calc_recursive_fib(4) took 0.001550s to run\n",
      "calc_recursive_fib(2) took 0.000000s to run\n",
      "calc_recursive_fib(1) took 0.000001s to run\n",
      "calc_recursive_fib(3) took 0.000071s to run\n",
      "calc_recursive_fib(5) took 0.001680s to run\n",
      "calc_recursive_fib(2) took 0.000000s to run\n",
      "calc_recursive_fib(1) took 0.000000s to run\n",
      "calc_recursive_fib(3) took 0.000049s to run\n",
      "calc_recursive_fib(2) took 0.000001s to run\n",
      "calc_recursive_fib(4) took 0.000092s to run\n",
      "calc_recursive_fib(6) took 0.001820s to run\n"
     ]
    },
    {
     "data": {
      "text/plain": [
       "8"
      ]
     },
     "execution_count": 8,
     "metadata": {},
     "output_type": "execute_result"
    }
   ],
   "source": [
    "calc_recursive_fib(6)"
   ]
  },
  {
   "cell_type": "code",
   "execution_count": 11,
   "id": "3d023ffc",
   "metadata": {},
   "outputs": [],
   "source": [
    "# A loop - faster than recursive\n",
    "\n",
    "@timed\n",
    "def fib_loop(n):\n",
    "    fib_1 = 1\n",
    "    fib_2 = 1\n",
    "    for i in range(3, n+1):\n",
    "        fib_1, fib_2 = fib_2, fib_1 + fib_2\n",
    "    return fib_2"
   ]
  },
  {
   "cell_type": "code",
   "execution_count": 16,
   "id": "a24c7c0e",
   "metadata": {},
   "outputs": [
    {
     "name": "stdout",
     "output_type": "stream",
     "text": [
      "fib_loop(6) took 0.000004s to run\n"
     ]
    },
    {
     "data": {
      "text/plain": [
       "8"
      ]
     },
     "execution_count": 16,
     "metadata": {},
     "output_type": "execute_result"
    }
   ],
   "source": [
    "fib_loop(6)"
   ]
  },
  {
   "cell_type": "code",
   "execution_count": 20,
   "id": "7fc03473",
   "metadata": {},
   "outputs": [],
   "source": [
    "# Reduce - slower than loop\n",
    "\n",
    "from functools import reduce"
   ]
  },
  {
   "cell_type": "code",
   "execution_count": 27,
   "id": "5a9e23bf",
   "metadata": {},
   "outputs": [],
   "source": [
    "@timed\n",
    "def fib_reduce(n):\n",
    "    initial = (1, 0)\n",
    "    dummy = range(n)\n",
    "    fib_n = reduce(lambda prev, n: (prev[0] + prev[1], prev[0]), dummy, initial)\n",
    "    \n",
    "    return fib_n[0]"
   ]
  },
  {
   "cell_type": "code",
   "execution_count": 28,
   "id": "8209f14e",
   "metadata": {},
   "outputs": [
    {
     "name": "stdout",
     "output_type": "stream",
     "text": [
      "fib_reduce(35) took 0.000012s to run\n"
     ]
    },
    {
     "data": {
      "text/plain": [
       "14930352"
      ]
     },
     "execution_count": 28,
     "metadata": {},
     "output_type": "execute_result"
    }
   ],
   "source": [
    "fib_reduce(35)"
   ]
  },
  {
   "cell_type": "code",
   "execution_count": 29,
   "id": "44090ca5",
   "metadata": {},
   "outputs": [
    {
     "name": "stdout",
     "output_type": "stream",
     "text": [
      "fib_loop(35) took 0.000005s to run\n"
     ]
    },
    {
     "data": {
      "text/plain": [
       "9227465"
      ]
     },
     "execution_count": 29,
     "metadata": {},
     "output_type": "execute_result"
    }
   ],
   "source": [
    "fib_loop(35)"
   ]
  },
  {
   "cell_type": "code",
   "execution_count": null,
   "id": "483bc774",
   "metadata": {},
   "outputs": [],
   "source": []
  }
 ],
 "metadata": {
  "kernelspec": {
   "display_name": "Python 3",
   "language": "python",
   "name": "python3"
  },
  "language_info": {
   "codemirror_mode": {
    "name": "ipython",
    "version": 3
   },
   "file_extension": ".py",
   "mimetype": "text/x-python",
   "name": "python",
   "nbconvert_exporter": "python",
   "pygments_lexer": "ipython3",
   "version": "3.8.8"
  }
 },
 "nbformat": 4,
 "nbformat_minor": 5
}
